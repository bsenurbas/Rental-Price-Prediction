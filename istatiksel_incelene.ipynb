{
 "cells": [
  {
   "cell_type": "markdown",
   "id": "3bbc6a2c",
   "metadata": {},
   "source": [
    "## Verilerin İstatiksel Olarak İncelenmesi ve Aykırı Değerlerin Ayıklanması"
   ]
  },
  {
   "cell_type": "markdown",
   "id": "e3157da4",
   "metadata": {},
   "source": [
    "Gerekli paket ve modüllerin yüklenmesi"
   ]
  },
  {
   "cell_type": "code",
   "execution_count": 1,
   "id": "1c555e30",
   "metadata": {},
   "outputs": [],
   "source": [
    "import numpy as np\n",
    "import pandas as pd\n",
    "import matplotlib.pyplot as plt"
   ]
  },
  {
   "cell_type": "markdown",
   "id": "9f160ebb",
   "metadata": {},
   "source": [
    "Verilerin yüklenmesi"
   ]
  },
  {
   "cell_type": "code",
   "execution_count": 2,
   "id": "baa44248",
   "metadata": {},
   "outputs": [],
   "source": [
    "df = pd.read_csv('hepsiemlak_cleaned.csv')"
   ]
  },
  {
   "cell_type": "code",
   "execution_count": 3,
   "id": "a3519bc1",
   "metadata": {},
   "outputs": [
    {
     "name": "stdout",
     "output_type": "stream",
     "text": [
      "<class 'pandas.core.frame.DataFrame'>\n",
      "RangeIndex: 9452 entries, 0 to 9451\n",
      "Data columns (total 9 columns):\n",
      " #   Column        Non-Null Count  Dtype \n",
      "---  ------        --------------  ----- \n",
      " 0   city          9452 non-null   object\n",
      " 1   district      9452 non-null   object\n",
      " 2   neighborhood  9452 non-null   object\n",
      " 3   room          9452 non-null   int64 \n",
      " 4   livingroom    9452 non-null   int64 \n",
      " 5   area          9452 non-null   int64 \n",
      " 6   age           9452 non-null   int64 \n",
      " 7   floor         9452 non-null   int64 \n",
      " 8   price         9452 non-null   int64 \n",
      "dtypes: int64(6), object(3)\n",
      "memory usage: 664.7+ KB\n",
      "None\n"
     ]
    }
   ],
   "source": [
    "print(df.info())"
   ]
  },
  {
   "cell_type": "code",
   "execution_count": 4,
   "id": "6be889a0",
   "metadata": {},
   "outputs": [],
   "source": [
    "df['city'] = df['city'].astype('category') # city sütununu kategorik veri tipine dönüştür\n",
    "df['district'] = df['district'].astype('category') # district sütununu kategorik veri tipine dönüştür\n",
    "df['neighborhood'] = df['neighborhood'].astype('category') # neighborhood sütununu kategorik veri tipine dönüştür\n",
    "df['room'] = df['room'].astype('int') # room sütununu tamsayı veri tipine dönüştür\n",
    "df['livingroom'] = df['livingroom'].astype('int') # livingroom sütununu tamsayı veri tipine dönüştür\n",
    "df['area'] = df['area'].astype('int') # area sütununu tamsayı veri tipine dönüştür\n",
    "df['age'] = df['age'].astype('int') # age sütununu tamsayı veri tipine dönüştür\n",
    "df['floor'] = df['floor'].astype('int') # floor sütununu tamsayı veri tipine dönüştür\n",
    "df['price'] = df['price'].astype('int') # price sütununu tamsayı veri tipine dönüştür"
   ]
  },
  {
   "cell_type": "code",
   "execution_count": 5,
   "id": "4f59e1d5",
   "metadata": {},
   "outputs": [
    {
     "name": "stdout",
     "output_type": "stream",
     "text": [
      "<class 'pandas.core.frame.DataFrame'>\n",
      "RangeIndex: 9452 entries, 0 to 9451\n",
      "Data columns (total 9 columns):\n",
      " #   Column        Non-Null Count  Dtype   \n",
      "---  ------        --------------  -----   \n",
      " 0   city          9452 non-null   category\n",
      " 1   district      9452 non-null   category\n",
      " 2   neighborhood  9452 non-null   category\n",
      " 3   room          9452 non-null   int32   \n",
      " 4   livingroom    9452 non-null   int32   \n",
      " 5   area          9452 non-null   int32   \n",
      " 6   age           9452 non-null   int32   \n",
      " 7   floor         9452 non-null   int32   \n",
      " 8   price         9452 non-null   int32   \n",
      "dtypes: category(3), int32(6)\n",
      "memory usage: 359.8 KB\n",
      "None\n"
     ]
    }
   ],
   "source": [
    "print(df.info())"
   ]
  },
  {
   "cell_type": "markdown",
   "id": "b3e376ba",
   "metadata": {},
   "source": [
    "Nümerik değişkenlerin minimum, maximum ve çeyreklik değerlerinin bulunması"
   ]
  },
  {
   "cell_type": "code",
   "execution_count": 6,
   "id": "5b32045a",
   "metadata": {},
   "outputs": [
    {
     "name": "stdout",
     "output_type": "stream",
     "text": [
      "room - Min: 0.5, Max: 4.5\n",
      "livingroom - Min: 1.0, Max: 1.0\n",
      "area - Min: -7.5, Max: 220.5\n",
      "age - Min: -26.5, Max: 57.5\n",
      "floor - Min: -3.5, Max: 8.5\n",
      "price - Min: -9000.0, Max: 63000.0\n"
     ]
    }
   ],
   "source": [
    "columns = df.select_dtypes(include=[np.number]).columns\n",
    "min_values = []\n",
    "max_values = []\n",
    "for column in columns:\n",
    "    Q1 = df[column].quantile(0.25)\n",
    "    Q3 = df[column].quantile(0.75)\n",
    "    IQR = Q3 - Q1\n",
    "    min_value = Q1 - 1.5 * IQR\n",
    "    max_value = Q3 + 1.5 * IQR\n",
    "    min_values.append(min_value)\n",
    "    max_values.append(max_value)\n",
    "    print(f\"{column} - Min: {min_value}, Max: {max_value}\")\n"
   ]
  },
  {
   "cell_type": "markdown",
   "id": "2cdf7456",
   "metadata": {},
   "source": [
    "Aykırı Değerlerin Temizlenmesi"
   ]
  },
  {
   "cell_type": "code",
   "execution_count": 7,
   "id": "f75c0899",
   "metadata": {},
   "outputs": [
    {
     "name": "stdout",
     "output_type": "stream",
     "text": [
      "room 0.5 4.5\n",
      "livingroom 1.0 1.0\n",
      "area -7.5 220.5\n",
      "age -26.5 57.5\n",
      "floor -3.5 8.5\n",
      "price -9000.0 63000.0\n"
     ]
    }
   ],
   "source": [
    "for i, column in enumerate(columns):\n",
    "    print(column, min_values[i], max_values[i])\n",
    "\n"
   ]
  },
  {
   "cell_type": "code",
   "execution_count": 8,
   "id": "d7c19764",
   "metadata": {},
   "outputs": [],
   "source": [
    "for i, column in enumerate(columns):\n",
    "    df = df[(df[column] >= min_values[i]) & (df[column] <= max_values[i])]"
   ]
  },
  {
   "cell_type": "code",
   "execution_count": 9,
   "id": "24101411",
   "metadata": {},
   "outputs": [
    {
     "name": "stdout",
     "output_type": "stream",
     "text": [
      "<class 'pandas.core.frame.DataFrame'>\n",
      "Index: 7652 entries, 0 to 9451\n",
      "Data columns (total 9 columns):\n",
      " #   Column        Non-Null Count  Dtype   \n",
      "---  ------        --------------  -----   \n",
      " 0   city          7652 non-null   category\n",
      " 1   district      7652 non-null   category\n",
      " 2   neighborhood  7652 non-null   category\n",
      " 3   room          7652 non-null   int32   \n",
      " 4   livingroom    7652 non-null   int32   \n",
      " 5   area          7652 non-null   int32   \n",
      " 6   age           7652 non-null   int32   \n",
      " 7   floor         7652 non-null   int32   \n",
      " 8   price         7652 non-null   int32   \n",
      "dtypes: category(3), int32(6)\n",
      "memory usage: 368.5 KB\n",
      "None\n"
     ]
    }
   ],
   "source": [
    "print(df.info())"
   ]
  },
  {
   "cell_type": "code",
   "execution_count": 10,
   "id": "ea8bdc42",
   "metadata": {},
   "outputs": [
    {
     "name": "stdout",
     "output_type": "stream",
     "text": [
      "              room  livingroom        area          age        floor  \\\n",
      "count  7652.000000      7652.0  7652.00000  7652.000000  7652.000000   \n",
      "mean      2.202039         1.0   104.44276    16.690016     2.545217   \n",
      "std       0.847212         0.0    36.73992    12.895895     1.839791   \n",
      "min       1.000000         1.0    20.00000     0.000000    -3.000000   \n",
      "25%       2.000000         1.0    75.00000     5.000000     1.000000   \n",
      "50%       2.000000         1.0   100.00000    15.000000     2.000000   \n",
      "75%       3.000000         1.0   130.00000    27.000000     4.000000   \n",
      "max       4.000000         1.0   220.00000    55.000000     8.000000   \n",
      "\n",
      "              price  \n",
      "count   7652.000000  \n",
      "mean   25580.608991  \n",
      "std    11028.641160  \n",
      "min      625.000000  \n",
      "25%    17500.000000  \n",
      "50%    23900.000000  \n",
      "75%    30625.000000  \n",
      "max    63000.000000  \n"
     ]
    }
   ],
   "source": [
    "print(df.describe())"
   ]
  },
  {
   "cell_type": "code",
   "execution_count": null,
   "id": "943a9868",
   "metadata": {},
   "outputs": [],
   "source": [
    "df.to_csv('hepsiemlak_cleaned_final.csv', index=False)  # Temizlenmiş veriyi kaydet"
   ]
  }
 ],
 "metadata": {
  "kernelspec": {
   "display_name": "base",
   "language": "python",
   "name": "python3"
  },
  "language_info": {
   "codemirror_mode": {
    "name": "ipython",
    "version": 3
   },
   "file_extension": ".py",
   "mimetype": "text/x-python",
   "name": "python",
   "nbconvert_exporter": "python",
   "pygments_lexer": "ipython3",
   "version": "3.12.7"
  }
 },
 "nbformat": 4,
 "nbformat_minor": 5
}
